{
 "cells": [
  {
   "cell_type": "markdown",
   "metadata": {
    "id": "GNIwe5N7s0e_"
   },
   "source": [
    "# Real-world Data Wrangling"
   ]
  },
  {
   "cell_type": "markdown",
   "metadata": {
    "id": "_BG63Tpg8ep_"
   },
   "source": [
    "## Data No 1: 120 years of Olympic history: athletes and results\n",
    "## Data No 2: Wrangled Pakistan largest ecommerce dataset"
   ]
  },
  {
   "cell_type": "markdown",
   "metadata": {
    "id": "lDYDkH-Zs7Nn"
   },
   "source": [
    "### 1. Gather data\n",
    "\n",
    "#### Data No 1:\n",
    "120 years of olympic history is downloaded using kaggle api. This involves installing pip kaggle. Secondly, generating kaggle token. Then, we copied the dataset api and we download data using kaggle api. Lastly, we unzip this data by importing zipfile and then we assess data using pandas.\n",
    "\n",
    "#### Data No 2:\n",
    "Pakistan largest ecommerce dataset is downloaded manually from kaggle and start using with pandas."
   ]
  },
  {
   "cell_type": "markdown",
   "metadata": {
    "id": "7e6gS0wL1KTu"
   },
   "source": [
    "# **Dataset 1:**\n",
    "### Gathering data by accessing kaggle API.\n"
   ]
  },
  {
   "cell_type": "code",
   "execution_count": 1,
   "metadata": {},
   "outputs": [],
   "source": [
    "#Importing all useful directories for this project:\n",
    "\n",
    "import pandas as pd\n",
    "import numpy as np\n",
    "import zipfile\n",
    "import matplotlib\n",
    "import matplotlib.pyplot as plt\n",
    "import seaborn as sns \n",
    "\n",
    "%matplotlib inline"
   ]
  },
  {
   "cell_type": "code",
   "execution_count": 2,
   "metadata": {
    "id": "Su8E0uLuYkHU"
   },
   "outputs": [
    {
     "name": "stdout",
     "output_type": "stream",
     "text": [
      "Requirement already satisfied: kaggle in /Users/bilal/anaconda3/lib/python3.11/site-packages (1.5.16)\n",
      "Requirement already satisfied: six>=1.10 in /Users/bilal/anaconda3/lib/python3.11/site-packages (from kaggle) (1.16.0)\n",
      "Requirement already satisfied: certifi in /Users/bilal/anaconda3/lib/python3.11/site-packages (from kaggle) (2023.7.22)\n",
      "Requirement already satisfied: python-dateutil in /Users/bilal/anaconda3/lib/python3.11/site-packages (from kaggle) (2.8.2)\n",
      "Requirement already satisfied: requests in /Users/bilal/anaconda3/lib/python3.11/site-packages (from kaggle) (2.31.0)\n",
      "Requirement already satisfied: tqdm in /Users/bilal/anaconda3/lib/python3.11/site-packages (from kaggle) (4.65.0)\n",
      "Requirement already satisfied: python-slugify in /Users/bilal/anaconda3/lib/python3.11/site-packages (from kaggle) (5.0.2)\n",
      "Requirement already satisfied: urllib3 in /Users/bilal/anaconda3/lib/python3.11/site-packages (from kaggle) (1.26.16)\n",
      "Requirement already satisfied: bleach in /Users/bilal/anaconda3/lib/python3.11/site-packages (from kaggle) (4.1.0)\n",
      "Requirement already satisfied: packaging in /Users/bilal/anaconda3/lib/python3.11/site-packages (from bleach->kaggle) (23.1)\n",
      "Requirement already satisfied: webencodings in /Users/bilal/anaconda3/lib/python3.11/site-packages (from bleach->kaggle) (0.5.1)\n",
      "Requirement already satisfied: text-unidecode>=1.3 in /Users/bilal/anaconda3/lib/python3.11/site-packages (from python-slugify->kaggle) (1.3)\n",
      "Requirement already satisfied: charset-normalizer<4,>=2 in /Users/bilal/anaconda3/lib/python3.11/site-packages (from requests->kaggle) (2.0.4)\n",
      "Requirement already satisfied: idna<4,>=2.5 in /Users/bilal/anaconda3/lib/python3.11/site-packages (from requests->kaggle) (3.4)\n"
     ]
    }
   ],
   "source": [
    "# Installing kaggle\n",
    "!pip install kaggle"
   ]
  },
  {
   "cell_type": "code",
   "execution_count": 3,
   "metadata": {},
   "outputs": [
    {
     "name": "stdout",
     "output_type": "stream",
     "text": [
      "cp: kaggle.json: No such file or directory\r\n"
     ]
    }
   ],
   "source": [
    "!mkdir -p ~/.kaggle\n",
    "!cp kaggle.json ~/.kaggle/\n",
    "! chmod 600 ~/.kaggle/kaggle.json"
   ]
  },
  {
   "cell_type": "code",
   "execution_count": 4,
   "metadata": {},
   "outputs": [
    {
     "name": "stdout",
     "output_type": "stream",
     "text": [
      "120-years-of-olympic-history-athletes-and-results.zip: Skipping, found more recently modified local copy (use --force to force download)\r\n"
     ]
    }
   ],
   "source": [
    "#Downloading dataset kaggle api\n",
    "!kaggle datasets download -d heesoo37/120-years-of-olympic-history-athletes-and-results"
   ]
  },
  {
   "cell_type": "code",
   "execution_count": 5,
   "metadata": {},
   "outputs": [],
   "source": [
    "dataset = '/Users/bilal/Downloads/Project/120-years-of-olympic-history-athletes-and-results.zip'"
   ]
  },
  {
   "cell_type": "code",
   "execution_count": 6,
   "metadata": {},
   "outputs": [],
   "source": [
    "# Extracting the files from the downloaded zipfile\n",
    "with zipfile.ZipFile(dataset, 'r') as zip_ref:\n",
    "    zip_ref.extractall()"
   ]
  },
  {
   "cell_type": "code",
   "execution_count": 7,
   "metadata": {},
   "outputs": [
    {
     "data": {
      "text/html": [
       "<div>\n",
       "<style scoped>\n",
       "    .dataframe tbody tr th:only-of-type {\n",
       "        vertical-align: middle;\n",
       "    }\n",
       "\n",
       "    .dataframe tbody tr th {\n",
       "        vertical-align: top;\n",
       "    }\n",
       "\n",
       "    .dataframe thead th {\n",
       "        text-align: right;\n",
       "    }\n",
       "</style>\n",
       "<table border=\"1\" class=\"dataframe\">\n",
       "  <thead>\n",
       "    <tr style=\"text-align: right;\">\n",
       "      <th></th>\n",
       "      <th>ID</th>\n",
       "      <th>Name</th>\n",
       "      <th>Sex</th>\n",
       "      <th>Age</th>\n",
       "      <th>Height</th>\n",
       "      <th>Weight</th>\n",
       "      <th>Team</th>\n",
       "      <th>NOC</th>\n",
       "      <th>Games</th>\n",
       "      <th>Year</th>\n",
       "      <th>Season</th>\n",
       "      <th>City</th>\n",
       "      <th>Sport</th>\n",
       "      <th>Event</th>\n",
       "      <th>Medal</th>\n",
       "    </tr>\n",
       "  </thead>\n",
       "  <tbody>\n",
       "    <tr>\n",
       "      <th>0</th>\n",
       "      <td>1</td>\n",
       "      <td>A Dijiang</td>\n",
       "      <td>M</td>\n",
       "      <td>24.0</td>\n",
       "      <td>180.0</td>\n",
       "      <td>80.0</td>\n",
       "      <td>China</td>\n",
       "      <td>CHN</td>\n",
       "      <td>1992 Summer</td>\n",
       "      <td>1992</td>\n",
       "      <td>Summer</td>\n",
       "      <td>Barcelona</td>\n",
       "      <td>Basketball</td>\n",
       "      <td>Basketball Men's Basketball</td>\n",
       "      <td>NaN</td>\n",
       "    </tr>\n",
       "    <tr>\n",
       "      <th>1</th>\n",
       "      <td>2</td>\n",
       "      <td>A Lamusi</td>\n",
       "      <td>M</td>\n",
       "      <td>23.0</td>\n",
       "      <td>170.0</td>\n",
       "      <td>60.0</td>\n",
       "      <td>China</td>\n",
       "      <td>CHN</td>\n",
       "      <td>2012 Summer</td>\n",
       "      <td>2012</td>\n",
       "      <td>Summer</td>\n",
       "      <td>London</td>\n",
       "      <td>Judo</td>\n",
       "      <td>Judo Men's Extra-Lightweight</td>\n",
       "      <td>NaN</td>\n",
       "    </tr>\n",
       "    <tr>\n",
       "      <th>2</th>\n",
       "      <td>3</td>\n",
       "      <td>Gunnar Nielsen Aaby</td>\n",
       "      <td>M</td>\n",
       "      <td>24.0</td>\n",
       "      <td>NaN</td>\n",
       "      <td>NaN</td>\n",
       "      <td>Denmark</td>\n",
       "      <td>DEN</td>\n",
       "      <td>1920 Summer</td>\n",
       "      <td>1920</td>\n",
       "      <td>Summer</td>\n",
       "      <td>Antwerpen</td>\n",
       "      <td>Football</td>\n",
       "      <td>Football Men's Football</td>\n",
       "      <td>NaN</td>\n",
       "    </tr>\n",
       "    <tr>\n",
       "      <th>3</th>\n",
       "      <td>4</td>\n",
       "      <td>Edgar Lindenau Aabye</td>\n",
       "      <td>M</td>\n",
       "      <td>34.0</td>\n",
       "      <td>NaN</td>\n",
       "      <td>NaN</td>\n",
       "      <td>Denmark/Sweden</td>\n",
       "      <td>DEN</td>\n",
       "      <td>1900 Summer</td>\n",
       "      <td>1900</td>\n",
       "      <td>Summer</td>\n",
       "      <td>Paris</td>\n",
       "      <td>Tug-Of-War</td>\n",
       "      <td>Tug-Of-War Men's Tug-Of-War</td>\n",
       "      <td>Gold</td>\n",
       "    </tr>\n",
       "    <tr>\n",
       "      <th>4</th>\n",
       "      <td>5</td>\n",
       "      <td>Christine Jacoba Aaftink</td>\n",
       "      <td>F</td>\n",
       "      <td>21.0</td>\n",
       "      <td>185.0</td>\n",
       "      <td>82.0</td>\n",
       "      <td>Netherlands</td>\n",
       "      <td>NED</td>\n",
       "      <td>1988 Winter</td>\n",
       "      <td>1988</td>\n",
       "      <td>Winter</td>\n",
       "      <td>Calgary</td>\n",
       "      <td>Speed Skating</td>\n",
       "      <td>Speed Skating Women's 500 metres</td>\n",
       "      <td>NaN</td>\n",
       "    </tr>\n",
       "    <tr>\n",
       "      <th>5</th>\n",
       "      <td>5</td>\n",
       "      <td>Christine Jacoba Aaftink</td>\n",
       "      <td>F</td>\n",
       "      <td>21.0</td>\n",
       "      <td>185.0</td>\n",
       "      <td>82.0</td>\n",
       "      <td>Netherlands</td>\n",
       "      <td>NED</td>\n",
       "      <td>1988 Winter</td>\n",
       "      <td>1988</td>\n",
       "      <td>Winter</td>\n",
       "      <td>Calgary</td>\n",
       "      <td>Speed Skating</td>\n",
       "      <td>Speed Skating Women's 1,000 metres</td>\n",
       "      <td>NaN</td>\n",
       "    </tr>\n",
       "    <tr>\n",
       "      <th>6</th>\n",
       "      <td>5</td>\n",
       "      <td>Christine Jacoba Aaftink</td>\n",
       "      <td>F</td>\n",
       "      <td>25.0</td>\n",
       "      <td>185.0</td>\n",
       "      <td>82.0</td>\n",
       "      <td>Netherlands</td>\n",
       "      <td>NED</td>\n",
       "      <td>1992 Winter</td>\n",
       "      <td>1992</td>\n",
       "      <td>Winter</td>\n",
       "      <td>Albertville</td>\n",
       "      <td>Speed Skating</td>\n",
       "      <td>Speed Skating Women's 500 metres</td>\n",
       "      <td>NaN</td>\n",
       "    </tr>\n",
       "    <tr>\n",
       "      <th>7</th>\n",
       "      <td>5</td>\n",
       "      <td>Christine Jacoba Aaftink</td>\n",
       "      <td>F</td>\n",
       "      <td>25.0</td>\n",
       "      <td>185.0</td>\n",
       "      <td>82.0</td>\n",
       "      <td>Netherlands</td>\n",
       "      <td>NED</td>\n",
       "      <td>1992 Winter</td>\n",
       "      <td>1992</td>\n",
       "      <td>Winter</td>\n",
       "      <td>Albertville</td>\n",
       "      <td>Speed Skating</td>\n",
       "      <td>Speed Skating Women's 1,000 metres</td>\n",
       "      <td>NaN</td>\n",
       "    </tr>\n",
       "    <tr>\n",
       "      <th>8</th>\n",
       "      <td>5</td>\n",
       "      <td>Christine Jacoba Aaftink</td>\n",
       "      <td>F</td>\n",
       "      <td>27.0</td>\n",
       "      <td>185.0</td>\n",
       "      <td>82.0</td>\n",
       "      <td>Netherlands</td>\n",
       "      <td>NED</td>\n",
       "      <td>1994 Winter</td>\n",
       "      <td>1994</td>\n",
       "      <td>Winter</td>\n",
       "      <td>Lillehammer</td>\n",
       "      <td>Speed Skating</td>\n",
       "      <td>Speed Skating Women's 500 metres</td>\n",
       "      <td>NaN</td>\n",
       "    </tr>\n",
       "    <tr>\n",
       "      <th>9</th>\n",
       "      <td>5</td>\n",
       "      <td>Christine Jacoba Aaftink</td>\n",
       "      <td>F</td>\n",
       "      <td>27.0</td>\n",
       "      <td>185.0</td>\n",
       "      <td>82.0</td>\n",
       "      <td>Netherlands</td>\n",
       "      <td>NED</td>\n",
       "      <td>1994 Winter</td>\n",
       "      <td>1994</td>\n",
       "      <td>Winter</td>\n",
       "      <td>Lillehammer</td>\n",
       "      <td>Speed Skating</td>\n",
       "      <td>Speed Skating Women's 1,000 metres</td>\n",
       "      <td>NaN</td>\n",
       "    </tr>\n",
       "  </tbody>\n",
       "</table>\n",
       "</div>"
      ],
      "text/plain": [
       "   ID                      Name Sex   Age  Height  Weight            Team  \\\n",
       "0   1                 A Dijiang   M  24.0   180.0    80.0           China   \n",
       "1   2                  A Lamusi   M  23.0   170.0    60.0           China   \n",
       "2   3       Gunnar Nielsen Aaby   M  24.0     NaN     NaN         Denmark   \n",
       "3   4      Edgar Lindenau Aabye   M  34.0     NaN     NaN  Denmark/Sweden   \n",
       "4   5  Christine Jacoba Aaftink   F  21.0   185.0    82.0     Netherlands   \n",
       "5   5  Christine Jacoba Aaftink   F  21.0   185.0    82.0     Netherlands   \n",
       "6   5  Christine Jacoba Aaftink   F  25.0   185.0    82.0     Netherlands   \n",
       "7   5  Christine Jacoba Aaftink   F  25.0   185.0    82.0     Netherlands   \n",
       "8   5  Christine Jacoba Aaftink   F  27.0   185.0    82.0     Netherlands   \n",
       "9   5  Christine Jacoba Aaftink   F  27.0   185.0    82.0     Netherlands   \n",
       "\n",
       "   NOC        Games  Year  Season         City          Sport  \\\n",
       "0  CHN  1992 Summer  1992  Summer    Barcelona     Basketball   \n",
       "1  CHN  2012 Summer  2012  Summer       London           Judo   \n",
       "2  DEN  1920 Summer  1920  Summer    Antwerpen       Football   \n",
       "3  DEN  1900 Summer  1900  Summer        Paris     Tug-Of-War   \n",
       "4  NED  1988 Winter  1988  Winter      Calgary  Speed Skating   \n",
       "5  NED  1988 Winter  1988  Winter      Calgary  Speed Skating   \n",
       "6  NED  1992 Winter  1992  Winter  Albertville  Speed Skating   \n",
       "7  NED  1992 Winter  1992  Winter  Albertville  Speed Skating   \n",
       "8  NED  1994 Winter  1994  Winter  Lillehammer  Speed Skating   \n",
       "9  NED  1994 Winter  1994  Winter  Lillehammer  Speed Skating   \n",
       "\n",
       "                                Event Medal  \n",
       "0         Basketball Men's Basketball   NaN  \n",
       "1        Judo Men's Extra-Lightweight   NaN  \n",
       "2             Football Men's Football   NaN  \n",
       "3         Tug-Of-War Men's Tug-Of-War  Gold  \n",
       "4    Speed Skating Women's 500 metres   NaN  \n",
       "5  Speed Skating Women's 1,000 metres   NaN  \n",
       "6    Speed Skating Women's 500 metres   NaN  \n",
       "7  Speed Skating Women's 1,000 metres   NaN  \n",
       "8    Speed Skating Women's 500 metres   NaN  \n",
       "9  Speed Skating Women's 1,000 metres   NaN  "
      ]
     },
     "execution_count": 7,
     "metadata": {},
     "output_type": "execute_result"
    }
   ],
   "source": [
    "df_olympic = pd.read_csv('athlete_events.csv')\n",
    "df_olympic.head(10)"
   ]
  },
  {
   "cell_type": "markdown",
   "metadata": {
    "id": "hoUjq1tPzz7P"
   },
   "source": [
    "# Dataset 2\n",
    "### Download data manually from kaggle."
   ]
  },
  {
   "cell_type": "code",
   "execution_count": 8,
   "metadata": {},
   "outputs": [
    {
     "data": {
      "text/html": [
       "<div>\n",
       "<style scoped>\n",
       "    .dataframe tbody tr th:only-of-type {\n",
       "        vertical-align: middle;\n",
       "    }\n",
       "\n",
       "    .dataframe tbody tr th {\n",
       "        vertical-align: top;\n",
       "    }\n",
       "\n",
       "    .dataframe thead th {\n",
       "        text-align: right;\n",
       "    }\n",
       "</style>\n",
       "<table border=\"1\" class=\"dataframe\">\n",
       "  <thead>\n",
       "    <tr style=\"text-align: right;\">\n",
       "      <th></th>\n",
       "      <th>Area Code</th>\n",
       "      <th>Area</th>\n",
       "      <th>Months Code</th>\n",
       "      <th>Months</th>\n",
       "      <th>Element Code</th>\n",
       "      <th>Element</th>\n",
       "      <th>Unit</th>\n",
       "      <th>Y1961</th>\n",
       "      <th>Y1962</th>\n",
       "      <th>Y1963</th>\n",
       "      <th>...</th>\n",
       "      <th>Y2010</th>\n",
       "      <th>Y2011</th>\n",
       "      <th>Y2012</th>\n",
       "      <th>Y2013</th>\n",
       "      <th>Y2014</th>\n",
       "      <th>Y2015</th>\n",
       "      <th>Y2016</th>\n",
       "      <th>Y2017</th>\n",
       "      <th>Y2018</th>\n",
       "      <th>Y2019</th>\n",
       "    </tr>\n",
       "  </thead>\n",
       "  <tbody>\n",
       "    <tr>\n",
       "      <th>0</th>\n",
       "      <td>2</td>\n",
       "      <td>Afghanistan</td>\n",
       "      <td>7001</td>\n",
       "      <td>January</td>\n",
       "      <td>7271</td>\n",
       "      <td>Temperature change</td>\n",
       "      <td>°C</td>\n",
       "      <td>0.777</td>\n",
       "      <td>0.062</td>\n",
       "      <td>2.744</td>\n",
       "      <td>...</td>\n",
       "      <td>3.601</td>\n",
       "      <td>1.179</td>\n",
       "      <td>-0.583</td>\n",
       "      <td>1.233</td>\n",
       "      <td>1.755</td>\n",
       "      <td>1.943</td>\n",
       "      <td>3.416</td>\n",
       "      <td>1.201</td>\n",
       "      <td>1.996</td>\n",
       "      <td>2.951</td>\n",
       "    </tr>\n",
       "    <tr>\n",
       "      <th>1</th>\n",
       "      <td>2</td>\n",
       "      <td>Afghanistan</td>\n",
       "      <td>7001</td>\n",
       "      <td>January</td>\n",
       "      <td>6078</td>\n",
       "      <td>Standard Deviation</td>\n",
       "      <td>°C</td>\n",
       "      <td>1.950</td>\n",
       "      <td>1.950</td>\n",
       "      <td>1.950</td>\n",
       "      <td>...</td>\n",
       "      <td>1.950</td>\n",
       "      <td>1.950</td>\n",
       "      <td>1.950</td>\n",
       "      <td>1.950</td>\n",
       "      <td>1.950</td>\n",
       "      <td>1.950</td>\n",
       "      <td>1.950</td>\n",
       "      <td>1.950</td>\n",
       "      <td>1.950</td>\n",
       "      <td>1.950</td>\n",
       "    </tr>\n",
       "    <tr>\n",
       "      <th>2</th>\n",
       "      <td>2</td>\n",
       "      <td>Afghanistan</td>\n",
       "      <td>7002</td>\n",
       "      <td>February</td>\n",
       "      <td>7271</td>\n",
       "      <td>Temperature change</td>\n",
       "      <td>°C</td>\n",
       "      <td>-1.743</td>\n",
       "      <td>2.465</td>\n",
       "      <td>3.919</td>\n",
       "      <td>...</td>\n",
       "      <td>1.212</td>\n",
       "      <td>0.321</td>\n",
       "      <td>-3.201</td>\n",
       "      <td>1.494</td>\n",
       "      <td>-3.187</td>\n",
       "      <td>2.699</td>\n",
       "      <td>2.251</td>\n",
       "      <td>-0.323</td>\n",
       "      <td>2.705</td>\n",
       "      <td>0.086</td>\n",
       "    </tr>\n",
       "    <tr>\n",
       "      <th>3</th>\n",
       "      <td>2</td>\n",
       "      <td>Afghanistan</td>\n",
       "      <td>7002</td>\n",
       "      <td>February</td>\n",
       "      <td>6078</td>\n",
       "      <td>Standard Deviation</td>\n",
       "      <td>°C</td>\n",
       "      <td>2.597</td>\n",
       "      <td>2.597</td>\n",
       "      <td>2.597</td>\n",
       "      <td>...</td>\n",
       "      <td>2.597</td>\n",
       "      <td>2.597</td>\n",
       "      <td>2.597</td>\n",
       "      <td>2.597</td>\n",
       "      <td>2.597</td>\n",
       "      <td>2.597</td>\n",
       "      <td>2.597</td>\n",
       "      <td>2.597</td>\n",
       "      <td>2.597</td>\n",
       "      <td>2.597</td>\n",
       "    </tr>\n",
       "    <tr>\n",
       "      <th>4</th>\n",
       "      <td>2</td>\n",
       "      <td>Afghanistan</td>\n",
       "      <td>7003</td>\n",
       "      <td>March</td>\n",
       "      <td>7271</td>\n",
       "      <td>Temperature change</td>\n",
       "      <td>°C</td>\n",
       "      <td>0.516</td>\n",
       "      <td>1.336</td>\n",
       "      <td>0.403</td>\n",
       "      <td>...</td>\n",
       "      <td>3.390</td>\n",
       "      <td>0.748</td>\n",
       "      <td>-0.527</td>\n",
       "      <td>2.246</td>\n",
       "      <td>-0.076</td>\n",
       "      <td>-0.497</td>\n",
       "      <td>2.296</td>\n",
       "      <td>0.834</td>\n",
       "      <td>4.418</td>\n",
       "      <td>0.234</td>\n",
       "    </tr>\n",
       "  </tbody>\n",
       "</table>\n",
       "<p>5 rows × 66 columns</p>\n",
       "</div>"
      ],
      "text/plain": [
       "   Area Code         Area  Months Code    Months  Element Code  \\\n",
       "0          2  Afghanistan         7001   January          7271   \n",
       "1          2  Afghanistan         7001   January          6078   \n",
       "2          2  Afghanistan         7002  February          7271   \n",
       "3          2  Afghanistan         7002  February          6078   \n",
       "4          2  Afghanistan         7003     March          7271   \n",
       "\n",
       "              Element Unit  Y1961  Y1962  Y1963  ...  Y2010  Y2011  Y2012  \\\n",
       "0  Temperature change   °C  0.777  0.062  2.744  ...  3.601  1.179 -0.583   \n",
       "1  Standard Deviation   °C  1.950  1.950  1.950  ...  1.950  1.950  1.950   \n",
       "2  Temperature change   °C -1.743  2.465  3.919  ...  1.212  0.321 -3.201   \n",
       "3  Standard Deviation   °C  2.597  2.597  2.597  ...  2.597  2.597  2.597   \n",
       "4  Temperature change   °C  0.516  1.336  0.403  ...  3.390  0.748 -0.527   \n",
       "\n",
       "   Y2013  Y2014  Y2015  Y2016  Y2017  Y2018  Y2019  \n",
       "0  1.233  1.755  1.943  3.416  1.201  1.996  2.951  \n",
       "1  1.950  1.950  1.950  1.950  1.950  1.950  1.950  \n",
       "2  1.494 -3.187  2.699  2.251 -0.323  2.705  0.086  \n",
       "3  2.597  2.597  2.597  2.597  2.597  2.597  2.597  \n",
       "4  2.246 -0.076 -0.497  2.296  0.834  4.418  0.234  \n",
       "\n",
       "[5 rows x 66 columns]"
      ]
     },
     "execution_count": 8,
     "metadata": {},
     "output_type": "execute_result"
    }
   ],
   "source": [
    "data_environment = pd.read_csv('Environment_Temperature_change_E_All_Data_NOFLAG.csv',encoding='latin-1')\n",
    "data_environment.head(5)\n"
   ]
  },
  {
   "cell_type": "markdown",
   "metadata": {
    "id": "QwSWIVmotLgV"
   },
   "source": [
    "## 2. Assess data\n",
    "\n",
    "Assess the data according to data quality and tidiness metrics using the report below.\n",
    "\n",
    "List **two** data quality issues and **two** tidiness issues. Assess each data issue visually **and** programmatically, then briefly describe the issue you find.  **Make sure you include justifications for the methods you use for the assessment.**"
   ]
  },
  {
   "cell_type": "markdown",
   "metadata": {
    "id": "adaK2iPNzVu4"
   },
   "source": [
    "### Quality Issue 1:"
   ]
  },
  {
   "cell_type": "code",
   "execution_count": 9,
   "metadata": {
    "id": "SpW59kh-zl8d"
   },
   "outputs": [
    {
     "name": "stdout",
     "output_type": "stream",
     "text": [
      "<class 'pandas.core.frame.DataFrame'>\n",
      "RangeIndex: 271116 entries, 0 to 271115\n",
      "Data columns (total 15 columns):\n",
      " #   Column  Non-Null Count   Dtype  \n",
      "---  ------  --------------   -----  \n",
      " 0   ID      271116 non-null  int64  \n",
      " 1   Name    271116 non-null  object \n",
      " 2   Sex     271116 non-null  object \n",
      " 3   Age     261642 non-null  float64\n",
      " 4   Height  210945 non-null  float64\n",
      " 5   Weight  208241 non-null  float64\n",
      " 6   Team    271116 non-null  object \n",
      " 7   NOC     271116 non-null  object \n",
      " 8   Games   271116 non-null  object \n",
      " 9   Year    271116 non-null  int64  \n",
      " 10  Season  271116 non-null  object \n",
      " 11  City    271116 non-null  object \n",
      " 12  Sport   271116 non-null  object \n",
      " 13  Event   271116 non-null  object \n",
      " 14  Medal   39783 non-null   object \n",
      "dtypes: float64(3), int64(2), object(10)\n",
      "memory usage: 31.0+ MB\n"
     ]
    }
   ],
   "source": [
    "df_olympic.describe()\n",
    "df_olympic.info()"
   ]
  },
  {
   "cell_type": "markdown",
   "metadata": {},
   "source": [
    "Issue and justification:<br>\n",
    "Data Completeness: <br>\n",
    "Olympic data has missing data problems specifically in the columns age, height and weight.<br>\n",
    "The Medal folder also has a huge chunk of missing value but that is understandable because when athletes don't win any medal they intentionally make it blank. "
   ]
  },
  {
   "cell_type": "markdown",
   "metadata": {},
   "source": [
    "### Quality Issue 2:"
   ]
  },
  {
   "cell_type": "code",
   "execution_count": 10,
   "metadata": {},
   "outputs": [],
   "source": [
    "df_olympic_duplicate = df_olympic[df_olympic.duplicated()]"
   ]
  },
  {
   "cell_type": "code",
   "execution_count": 11,
   "metadata": {},
   "outputs": [
    {
     "name": "stdout",
     "output_type": "stream",
     "text": [
      "            ID                                 Name Sex   Age  Height  Weight  \\\n",
      "1252       704                   Dsir Antoine Acket   M  27.0     NaN     NaN   \n",
      "4282      2449               William Truman Aldrich   M  48.0     NaN     NaN   \n",
      "4283      2449               William Truman Aldrich   M  48.0     NaN     NaN   \n",
      "4862      2777               Hermann Reinhard Alker   M  43.0     NaN     NaN   \n",
      "4864      2777               Hermann Reinhard Alker   M  43.0     NaN     NaN   \n",
      "...        ...                                  ...  ..   ...     ...     ...   \n",
      "269994  135072  Anna Katrina Zinkeisen (-Heseltine)   F  46.0     NaN     NaN   \n",
      "269995  135072  Anna Katrina Zinkeisen (-Heseltine)   F  46.0     NaN     NaN   \n",
      "269997  135072  Anna Katrina Zinkeisen (-Heseltine)   F  46.0     NaN     NaN   \n",
      "269999  135073   Doris Clare Zinkeisen (-Johnstone)   F  49.0     NaN     NaN   \n",
      "270200  135173                     Henri Achille Zo   M  58.0     NaN     NaN   \n",
      "\n",
      "                 Team  NOC        Games  Year  Season         City  \\\n",
      "1252          Belgium  BEL  1932 Summer  1932  Summer  Los Angeles   \n",
      "4282    United States  USA  1928 Summer  1928  Summer    Amsterdam   \n",
      "4283    United States  USA  1928 Summer  1928  Summer    Amsterdam   \n",
      "4862          Germany  GER  1928 Summer  1928  Summer    Amsterdam   \n",
      "4864          Germany  GER  1928 Summer  1928  Summer    Amsterdam   \n",
      "...               ...  ...          ...   ...     ...          ...   \n",
      "269994  Great Britain  GBR  1948 Summer  1948  Summer       London   \n",
      "269995  Great Britain  GBR  1948 Summer  1948  Summer       London   \n",
      "269997  Great Britain  GBR  1948 Summer  1948  Summer       London   \n",
      "269999  Great Britain  GBR  1948 Summer  1948  Summer       London   \n",
      "270200         France  FRA  1932 Summer  1932  Summer  Los Angeles   \n",
      "\n",
      "                   Sport                                              Event  \\\n",
      "1252    Art Competitions     Art Competitions Mixed Painting, Unknown Event   \n",
      "4282    Art Competitions  Art Competitions Mixed Painting, Drawings And ...   \n",
      "4283    Art Competitions  Art Competitions Mixed Painting, Drawings And ...   \n",
      "4862    Art Competitions  Art Competitions Mixed Architecture, Designs F...   \n",
      "4864    Art Competitions  Art Competitions Mixed Architecture, Architect...   \n",
      "...                  ...                                                ...   \n",
      "269994  Art Competitions         Art Competitions Mixed Painting, Paintings   \n",
      "269995  Art Competitions         Art Competitions Mixed Painting, Paintings   \n",
      "269997  Art Competitions     Art Competitions Mixed Painting, Unknown Event   \n",
      "269999  Art Competitions     Art Competitions Mixed Painting, Unknown Event   \n",
      "270200  Art Competitions     Art Competitions Mixed Painting, Unknown Event   \n",
      "\n",
      "       Medal  \n",
      "1252     NaN  \n",
      "4282     NaN  \n",
      "4283     NaN  \n",
      "4862     NaN  \n",
      "4864     NaN  \n",
      "...      ...  \n",
      "269994   NaN  \n",
      "269995   NaN  \n",
      "269997   NaN  \n",
      "269999   NaN  \n",
      "270200   NaN  \n",
      "\n",
      "[1385 rows x 15 columns]\n"
     ]
    }
   ],
   "source": [
    "print(df_olympic_duplicate)"
   ]
  },
  {
   "cell_type": "markdown",
   "metadata": {},
   "source": [
    "Issue and justification:<br>\n",
    "Data Completeness: <br>\n",
    "Olympic data has 271116 unique values and we can see that there are 1385 duplicated values which should be removed before analysis as it will affect our analysis."
   ]
  },
  {
   "cell_type": "markdown",
   "metadata": {
    "id": "lXhGiYyiwwKN"
   },
   "source": [
    "### Tidiness Issue 1:"
   ]
  },
  {
   "cell_type": "code",
   "execution_count": 12,
   "metadata": {
    "id": "fleC5rORI0Xl"
   },
   "outputs": [
    {
     "name": "stdout",
     "output_type": "stream",
     "text": [
      "<class 'pandas.core.frame.DataFrame'>\n",
      "RangeIndex: 9656 entries, 0 to 9655\n",
      "Data columns (total 66 columns):\n",
      " #   Column        Non-Null Count  Dtype  \n",
      "---  ------        --------------  -----  \n",
      " 0   Area Code     9656 non-null   int64  \n",
      " 1   Area          9656 non-null   object \n",
      " 2   Months Code   9656 non-null   int64  \n",
      " 3   Months        9656 non-null   object \n",
      " 4   Element Code  9656 non-null   int64  \n",
      " 5   Element       9656 non-null   object \n",
      " 6   Unit          9656 non-null   object \n",
      " 7   Y1961         8287 non-null   float64\n",
      " 8   Y1962         8322 non-null   float64\n",
      " 9   Y1963         8294 non-null   float64\n",
      " 10  Y1964         8252 non-null   float64\n",
      " 11  Y1965         8281 non-null   float64\n",
      " 12  Y1966         8364 non-null   float64\n",
      " 13  Y1967         8347 non-null   float64\n",
      " 14  Y1968         8345 non-null   float64\n",
      " 15  Y1969         8326 non-null   float64\n",
      " 16  Y1970         8308 non-null   float64\n",
      " 17  Y1971         8303 non-null   float64\n",
      " 18  Y1972         8323 non-null   float64\n",
      " 19  Y1973         8394 non-null   float64\n",
      " 20  Y1974         8374 non-null   float64\n",
      " 21  Y1975         8280 non-null   float64\n",
      " 22  Y1976         8209 non-null   float64\n",
      " 23  Y1977         8257 non-null   float64\n",
      " 24  Y1978         8327 non-null   float64\n",
      " 25  Y1979         8290 non-null   float64\n",
      " 26  Y1980         8283 non-null   float64\n",
      " 27  Y1981         8276 non-null   float64\n",
      " 28  Y1982         8237 non-null   float64\n",
      " 29  Y1983         8205 non-null   float64\n",
      " 30  Y1984         8259 non-null   float64\n",
      " 31  Y1985         8216 non-null   float64\n",
      " 32  Y1986         8268 non-null   float64\n",
      " 33  Y1987         8284 non-null   float64\n",
      " 34  Y1988         8273 non-null   float64\n",
      " 35  Y1989         8257 non-null   float64\n",
      " 36  Y1990         8239 non-null   float64\n",
      " 37  Y1991         8158 non-null   float64\n",
      " 38  Y1992         8354 non-null   float64\n",
      " 39  Y1993         8315 non-null   float64\n",
      " 40  Y1994         8373 non-null   float64\n",
      " 41  Y1995         8409 non-null   float64\n",
      " 42  Y1996         8439 non-null   float64\n",
      " 43  Y1997         8309 non-null   float64\n",
      " 44  Y1998         8370 non-null   float64\n",
      " 45  Y1999         8324 non-null   float64\n",
      " 46  Y2000         8342 non-null   float64\n",
      " 47  Y2001         8241 non-null   float64\n",
      " 48  Y2002         8312 non-null   float64\n",
      " 49  Y2003         8390 non-null   float64\n",
      " 50  Y2004         8415 non-null   float64\n",
      " 51  Y2005         8424 non-null   float64\n",
      " 52  Y2006         8503 non-null   float64\n",
      " 53  Y2007         8534 non-null   float64\n",
      " 54  Y2008         8475 non-null   float64\n",
      " 55  Y2009         8419 non-null   float64\n",
      " 56  Y2010         8435 non-null   float64\n",
      " 57  Y2011         8437 non-null   float64\n",
      " 58  Y2012         8350 non-null   float64\n",
      " 59  Y2013         8427 non-null   float64\n",
      " 60  Y2014         8377 non-null   float64\n",
      " 61  Y2015         8361 non-null   float64\n",
      " 62  Y2016         8348 non-null   float64\n",
      " 63  Y2017         8366 non-null   float64\n",
      " 64  Y2018         8349 non-null   float64\n",
      " 65  Y2019         8365 non-null   float64\n",
      "dtypes: float64(59), int64(3), object(4)\n",
      "memory usage: 4.9+ MB\n"
     ]
    },
    {
     "data": {
      "text/html": [
       "<div>\n",
       "<style scoped>\n",
       "    .dataframe tbody tr th:only-of-type {\n",
       "        vertical-align: middle;\n",
       "    }\n",
       "\n",
       "    .dataframe tbody tr th {\n",
       "        vertical-align: top;\n",
       "    }\n",
       "\n",
       "    .dataframe thead th {\n",
       "        text-align: right;\n",
       "    }\n",
       "</style>\n",
       "<table border=\"1\" class=\"dataframe\">\n",
       "  <thead>\n",
       "    <tr style=\"text-align: right;\">\n",
       "      <th></th>\n",
       "      <th>Area Code</th>\n",
       "      <th>Months Code</th>\n",
       "      <th>Element Code</th>\n",
       "      <th>Y1961</th>\n",
       "      <th>Y1962</th>\n",
       "      <th>Y1963</th>\n",
       "      <th>Y1964</th>\n",
       "      <th>Y1965</th>\n",
       "      <th>Y1966</th>\n",
       "      <th>Y1967</th>\n",
       "      <th>...</th>\n",
       "      <th>Y2010</th>\n",
       "      <th>Y2011</th>\n",
       "      <th>Y2012</th>\n",
       "      <th>Y2013</th>\n",
       "      <th>Y2014</th>\n",
       "      <th>Y2015</th>\n",
       "      <th>Y2016</th>\n",
       "      <th>Y2017</th>\n",
       "      <th>Y2018</th>\n",
       "      <th>Y2019</th>\n",
       "    </tr>\n",
       "  </thead>\n",
       "  <tbody>\n",
       "    <tr>\n",
       "      <th>count</th>\n",
       "      <td>9656.000000</td>\n",
       "      <td>9656.000000</td>\n",
       "      <td>9656.00000</td>\n",
       "      <td>8287.000000</td>\n",
       "      <td>8322.000000</td>\n",
       "      <td>8294.000000</td>\n",
       "      <td>8252.000000</td>\n",
       "      <td>8281.000000</td>\n",
       "      <td>8364.000000</td>\n",
       "      <td>8347.000000</td>\n",
       "      <td>...</td>\n",
       "      <td>8435.000000</td>\n",
       "      <td>8437.000000</td>\n",
       "      <td>8350.000000</td>\n",
       "      <td>8427.000000</td>\n",
       "      <td>8377.000000</td>\n",
       "      <td>8361.000000</td>\n",
       "      <td>8348.000000</td>\n",
       "      <td>8366.000000</td>\n",
       "      <td>8349.000000</td>\n",
       "      <td>8365.000000</td>\n",
       "    </tr>\n",
       "    <tr>\n",
       "      <th>mean</th>\n",
       "      <td>821.806338</td>\n",
       "      <td>7009.882353</td>\n",
       "      <td>6674.50000</td>\n",
       "      <td>0.402433</td>\n",
       "      <td>0.315527</td>\n",
       "      <td>0.317393</td>\n",
       "      <td>0.269382</td>\n",
       "      <td>0.217839</td>\n",
       "      <td>0.376419</td>\n",
       "      <td>0.263239</td>\n",
       "      <td>...</td>\n",
       "      <td>0.884504</td>\n",
       "      <td>0.768488</td>\n",
       "      <td>0.788930</td>\n",
       "      <td>0.829647</td>\n",
       "      <td>0.913872</td>\n",
       "      <td>1.018816</td>\n",
       "      <td>1.081491</td>\n",
       "      <td>1.003342</td>\n",
       "      <td>1.010832</td>\n",
       "      <td>1.094599</td>\n",
       "    </tr>\n",
       "    <tr>\n",
       "      <th>std</th>\n",
       "      <td>1781.072213</td>\n",
       "      <td>6.038255</td>\n",
       "      <td>596.53089</td>\n",
       "      <td>0.701567</td>\n",
       "      <td>0.713777</td>\n",
       "      <td>0.853133</td>\n",
       "      <td>0.749216</td>\n",
       "      <td>0.739418</td>\n",
       "      <td>0.737370</td>\n",
       "      <td>0.725421</td>\n",
       "      <td>...</td>\n",
       "      <td>0.878303</td>\n",
       "      <td>0.750631</td>\n",
       "      <td>0.858586</td>\n",
       "      <td>0.713753</td>\n",
       "      <td>0.815933</td>\n",
       "      <td>0.840189</td>\n",
       "      <td>0.877399</td>\n",
       "      <td>0.809800</td>\n",
       "      <td>0.872199</td>\n",
       "      <td>0.853953</td>\n",
       "    </tr>\n",
       "    <tr>\n",
       "      <th>min</th>\n",
       "      <td>1.000000</td>\n",
       "      <td>7001.000000</td>\n",
       "      <td>6078.00000</td>\n",
       "      <td>-4.018000</td>\n",
       "      <td>-5.391000</td>\n",
       "      <td>-8.483000</td>\n",
       "      <td>-7.309000</td>\n",
       "      <td>-4.728000</td>\n",
       "      <td>-8.147000</td>\n",
       "      <td>-6.531000</td>\n",
       "      <td>...</td>\n",
       "      <td>-6.072000</td>\n",
       "      <td>-4.854000</td>\n",
       "      <td>-5.785000</td>\n",
       "      <td>-3.642000</td>\n",
       "      <td>-5.367000</td>\n",
       "      <td>-4.068000</td>\n",
       "      <td>-3.306000</td>\n",
       "      <td>-3.584000</td>\n",
       "      <td>-2.216000</td>\n",
       "      <td>-2.644000</td>\n",
       "    </tr>\n",
       "    <tr>\n",
       "      <th>25%</th>\n",
       "      <td>78.000000</td>\n",
       "      <td>7005.000000</td>\n",
       "      <td>6078.00000</td>\n",
       "      <td>0.057000</td>\n",
       "      <td>-0.033000</td>\n",
       "      <td>0.030250</td>\n",
       "      <td>-0.102500</td>\n",
       "      <td>-0.214000</td>\n",
       "      <td>0.055000</td>\n",
       "      <td>-0.169000</td>\n",
       "      <td>...</td>\n",
       "      <td>0.392000</td>\n",
       "      <td>0.365000</td>\n",
       "      <td>0.372250</td>\n",
       "      <td>0.408500</td>\n",
       "      <td>0.418000</td>\n",
       "      <td>0.437000</td>\n",
       "      <td>0.457000</td>\n",
       "      <td>0.443000</td>\n",
       "      <td>0.434000</td>\n",
       "      <td>0.455000</td>\n",
       "    </tr>\n",
       "    <tr>\n",
       "      <th>50%</th>\n",
       "      <td>153.500000</td>\n",
       "      <td>7009.000000</td>\n",
       "      <td>6674.50000</td>\n",
       "      <td>0.366000</td>\n",
       "      <td>0.333000</td>\n",
       "      <td>0.355000</td>\n",
       "      <td>0.326000</td>\n",
       "      <td>0.303000</td>\n",
       "      <td>0.360000</td>\n",
       "      <td>0.313000</td>\n",
       "      <td>...</td>\n",
       "      <td>0.771000</td>\n",
       "      <td>0.640000</td>\n",
       "      <td>0.651000</td>\n",
       "      <td>0.719000</td>\n",
       "      <td>0.745000</td>\n",
       "      <td>0.858000</td>\n",
       "      <td>0.949000</td>\n",
       "      <td>0.865000</td>\n",
       "      <td>0.810000</td>\n",
       "      <td>0.939000</td>\n",
       "    </tr>\n",
       "    <tr>\n",
       "      <th>75%</th>\n",
       "      <td>226.250000</td>\n",
       "      <td>7016.000000</td>\n",
       "      <td>7271.00000</td>\n",
       "      <td>0.676500</td>\n",
       "      <td>0.627000</td>\n",
       "      <td>0.647750</td>\n",
       "      <td>0.609000</td>\n",
       "      <td>0.584000</td>\n",
       "      <td>0.660250</td>\n",
       "      <td>0.601000</td>\n",
       "      <td>...</td>\n",
       "      <td>1.276500</td>\n",
       "      <td>1.091000</td>\n",
       "      <td>1.108000</td>\n",
       "      <td>1.126000</td>\n",
       "      <td>1.190000</td>\n",
       "      <td>1.389000</td>\n",
       "      <td>1.496000</td>\n",
       "      <td>1.364750</td>\n",
       "      <td>1.341000</td>\n",
       "      <td>1.508000</td>\n",
       "    </tr>\n",
       "    <tr>\n",
       "      <th>max</th>\n",
       "      <td>5873.000000</td>\n",
       "      <td>7020.000000</td>\n",
       "      <td>7271.00000</td>\n",
       "      <td>5.771000</td>\n",
       "      <td>4.373000</td>\n",
       "      <td>4.666000</td>\n",
       "      <td>5.233000</td>\n",
       "      <td>5.144000</td>\n",
       "      <td>5.771000</td>\n",
       "      <td>4.768000</td>\n",
       "      <td>...</td>\n",
       "      <td>7.190000</td>\n",
       "      <td>6.531000</td>\n",
       "      <td>10.826000</td>\n",
       "      <td>6.738000</td>\n",
       "      <td>11.759000</td>\n",
       "      <td>7.590000</td>\n",
       "      <td>10.478000</td>\n",
       "      <td>7.389000</td>\n",
       "      <td>9.228000</td>\n",
       "      <td>7.215000</td>\n",
       "    </tr>\n",
       "  </tbody>\n",
       "</table>\n",
       "<p>8 rows × 62 columns</p>\n",
       "</div>"
      ],
      "text/plain": [
       "         Area Code  Months Code  Element Code        Y1961        Y1962  \\\n",
       "count  9656.000000  9656.000000    9656.00000  8287.000000  8322.000000   \n",
       "mean    821.806338  7009.882353    6674.50000     0.402433     0.315527   \n",
       "std    1781.072213     6.038255     596.53089     0.701567     0.713777   \n",
       "min       1.000000  7001.000000    6078.00000    -4.018000    -5.391000   \n",
       "25%      78.000000  7005.000000    6078.00000     0.057000    -0.033000   \n",
       "50%     153.500000  7009.000000    6674.50000     0.366000     0.333000   \n",
       "75%     226.250000  7016.000000    7271.00000     0.676500     0.627000   \n",
       "max    5873.000000  7020.000000    7271.00000     5.771000     4.373000   \n",
       "\n",
       "             Y1963        Y1964        Y1965        Y1966        Y1967  ...  \\\n",
       "count  8294.000000  8252.000000  8281.000000  8364.000000  8347.000000  ...   \n",
       "mean      0.317393     0.269382     0.217839     0.376419     0.263239  ...   \n",
       "std       0.853133     0.749216     0.739418     0.737370     0.725421  ...   \n",
       "min      -8.483000    -7.309000    -4.728000    -8.147000    -6.531000  ...   \n",
       "25%       0.030250    -0.102500    -0.214000     0.055000    -0.169000  ...   \n",
       "50%       0.355000     0.326000     0.303000     0.360000     0.313000  ...   \n",
       "75%       0.647750     0.609000     0.584000     0.660250     0.601000  ...   \n",
       "max       4.666000     5.233000     5.144000     5.771000     4.768000  ...   \n",
       "\n",
       "             Y2010        Y2011        Y2012        Y2013        Y2014  \\\n",
       "count  8435.000000  8437.000000  8350.000000  8427.000000  8377.000000   \n",
       "mean      0.884504     0.768488     0.788930     0.829647     0.913872   \n",
       "std       0.878303     0.750631     0.858586     0.713753     0.815933   \n",
       "min      -6.072000    -4.854000    -5.785000    -3.642000    -5.367000   \n",
       "25%       0.392000     0.365000     0.372250     0.408500     0.418000   \n",
       "50%       0.771000     0.640000     0.651000     0.719000     0.745000   \n",
       "75%       1.276500     1.091000     1.108000     1.126000     1.190000   \n",
       "max       7.190000     6.531000    10.826000     6.738000    11.759000   \n",
       "\n",
       "             Y2015        Y2016        Y2017        Y2018        Y2019  \n",
       "count  8361.000000  8348.000000  8366.000000  8349.000000  8365.000000  \n",
       "mean      1.018816     1.081491     1.003342     1.010832     1.094599  \n",
       "std       0.840189     0.877399     0.809800     0.872199     0.853953  \n",
       "min      -4.068000    -3.306000    -3.584000    -2.216000    -2.644000  \n",
       "25%       0.437000     0.457000     0.443000     0.434000     0.455000  \n",
       "50%       0.858000     0.949000     0.865000     0.810000     0.939000  \n",
       "75%       1.389000     1.496000     1.364750     1.341000     1.508000  \n",
       "max       7.590000    10.478000     7.389000     9.228000     7.215000  \n",
       "\n",
       "[8 rows x 62 columns]"
      ]
     },
     "execution_count": 12,
     "metadata": {},
     "output_type": "execute_result"
    }
   ],
   "source": [
    "data_environment.info()\n",
    "data_environment.describe()"
   ]
  },
  {
   "cell_type": "markdown",
   "metadata": {},
   "source": [
    "Issue and justification:<br> \n",
    "Single observation stored in multiple tables <br>\n",
    "At first glance of data, we can observe that year entry is stored in multiple columns in environment data, which can be considered as tidiness issue because it is a single observation stored in multiple columns. we will add all years into one entry once we clean this data. "
   ]
  },
  {
   "cell_type": "markdown",
   "metadata": {
    "id": "4ffMoRGSwzYj"
   },
   "source": [
    "### Tidiness Issue 2: "
   ]
  },
  {
   "cell_type": "code",
   "execution_count": 13,
   "metadata": {
    "id": "XUpeoqokw5Qt"
   },
   "outputs": [
    {
     "name": "stdout",
     "output_type": "stream",
     "text": [
      "Empty DataFrame\n",
      "Columns: [Area Code, Area, Months Code, Months, Element Code, Element, Unit, Y1961, Y1962, Y1963, Y1964, Y1965, Y1966, Y1967, Y1968, Y1969, Y1970, Y1971, Y1972, Y1973, Y1974, Y1975, Y1976, Y1977, Y1978, Y1979, Y1980, Y1981, Y1982, Y1983, Y1984, Y1985, Y1986, Y1987, Y1988, Y1989, Y1990, Y1991, Y1992, Y1993, Y1994, Y1995, Y1996, Y1997, Y1998, Y1999, Y2000, Y2001, Y2002, Y2003, Y2004, Y2005, Y2006, Y2007, Y2008, Y2009, Y2010, Y2011, Y2012, Y2013, Y2014, Y2015, Y2016, Y2017, Y2018, Y2019]\n",
      "Index: []\n",
      "\n",
      "[0 rows x 66 columns]\n"
     ]
    }
   ],
   "source": [
    "data_environment_duplicate = data_environment[data_environment.duplicated()]\n",
    "print(data_environment_duplicate)"
   ]
  },
  {
   "cell_type": "markdown",
   "metadata": {},
   "source": [
    "Issue and justification:<br>\n",
    "Multiple variables are stored in one column.<br>\n",
    "As we can see from the environmental data, In the element table there is two value stored temperature and standard deviation which is not the best approach as it stores two different values. In the data cleaning process, we will remove this many other tables from the data as they do not help in any statistical analysis."
   ]
  },
  {
   "cell_type": "markdown",
   "metadata": {
    "id": "D6gmLnBttpCh"
   },
   "source": [
    "## 3. Clean data\n",
    "Clean the data to solve the 4 issues corresponding to data quality and tidiness found in the assessing step. **Make sure you include justifications for your cleaning decisions.**\n",
    "\n",
    "After the cleaning for each issue, please use **either** the visually or programatical method to validate the cleaning was succesful.\n",
    "\n",
    "At this stage, you are also expected to remove variables that are unnecessary for your analysis and combine your datasets. Depending on your datasets, you may choose to perform variable combination and elimination before or after the cleaning stage. Your dataset must have **at least** 4 variables after combining the data.\n",
    "\n",
    "### Olympic Data Cleaning: \n",
    "1. Drop duplicate\n",
    "    - before removing duplicates 271116 and we removed 1385 duplicate rows and now we have 269731 rows\n",
    "2. Removing non useful columns\n",
    "3. replacing non zero \"Age\" values to mean values of age\n",
    "4. Replacing NAN values in medal with No medal.\n",
    "    \n",
    "### Climate Change:"
   ]
  },
  {
   "cell_type": "code",
   "execution_count": 14,
   "metadata": {},
   "outputs": [
    {
     "name": "stdout",
     "output_type": "stream",
     "text": [
      "<class 'pandas.core.frame.DataFrame'>\n",
      "Index: 269731 entries, 0 to 271115\n",
      "Data columns (total 15 columns):\n",
      " #   Column  Non-Null Count   Dtype  \n",
      "---  ------  --------------   -----  \n",
      " 0   ID      269731 non-null  int64  \n",
      " 1   Name    269731 non-null  object \n",
      " 2   Sex     269731 non-null  object \n",
      " 3   Age     260416 non-null  float64\n",
      " 4   Height  210917 non-null  float64\n",
      " 5   Weight  208204 non-null  float64\n",
      " 6   Team    269731 non-null  object \n",
      " 7   NOC     269731 non-null  object \n",
      " 8   Games   269731 non-null  object \n",
      " 9   Year    269731 non-null  int64  \n",
      " 10  Season  269731 non-null  object \n",
      " 11  City    269731 non-null  object \n",
      " 12  Sport   269731 non-null  object \n",
      " 13  Event   269731 non-null  object \n",
      " 14  Medal   39772 non-null   object \n",
      "dtypes: float64(3), int64(2), object(10)\n",
      "memory usage: 32.9+ MB\n"
     ]
    }
   ],
   "source": [
    "# Droping duplicates:\n",
    "df_olympic_clean = df_olympic.drop_duplicates()\n",
    "df_olympic_clean.info()"
   ]
  },
  {
   "cell_type": "code",
   "execution_count": 15,
   "metadata": {},
   "outputs": [
    {
     "data": {
      "text/html": [
       "<div>\n",
       "<style scoped>\n",
       "    .dataframe tbody tr th:only-of-type {\n",
       "        vertical-align: middle;\n",
       "    }\n",
       "\n",
       "    .dataframe tbody tr th {\n",
       "        vertical-align: top;\n",
       "    }\n",
       "\n",
       "    .dataframe thead th {\n",
       "        text-align: right;\n",
       "    }\n",
       "</style>\n",
       "<table border=\"1\" class=\"dataframe\">\n",
       "  <thead>\n",
       "    <tr style=\"text-align: right;\">\n",
       "      <th></th>\n",
       "      <th>ID</th>\n",
       "      <th>Name</th>\n",
       "      <th>Sex</th>\n",
       "      <th>Age</th>\n",
       "      <th>Team</th>\n",
       "      <th>Games</th>\n",
       "      <th>Year</th>\n",
       "      <th>Season</th>\n",
       "      <th>City</th>\n",
       "      <th>Sport</th>\n",
       "      <th>Event</th>\n",
       "      <th>Medal</th>\n",
       "    </tr>\n",
       "  </thead>\n",
       "  <tbody>\n",
       "    <tr>\n",
       "      <th>0</th>\n",
       "      <td>1</td>\n",
       "      <td>A Dijiang</td>\n",
       "      <td>M</td>\n",
       "      <td>24.0</td>\n",
       "      <td>China</td>\n",
       "      <td>1992 Summer</td>\n",
       "      <td>1992</td>\n",
       "      <td>Summer</td>\n",
       "      <td>Barcelona</td>\n",
       "      <td>Basketball</td>\n",
       "      <td>Basketball Men's Basketball</td>\n",
       "      <td>NaN</td>\n",
       "    </tr>\n",
       "    <tr>\n",
       "      <th>1</th>\n",
       "      <td>2</td>\n",
       "      <td>A Lamusi</td>\n",
       "      <td>M</td>\n",
       "      <td>23.0</td>\n",
       "      <td>China</td>\n",
       "      <td>2012 Summer</td>\n",
       "      <td>2012</td>\n",
       "      <td>Summer</td>\n",
       "      <td>London</td>\n",
       "      <td>Judo</td>\n",
       "      <td>Judo Men's Extra-Lightweight</td>\n",
       "      <td>NaN</td>\n",
       "    </tr>\n",
       "    <tr>\n",
       "      <th>2</th>\n",
       "      <td>3</td>\n",
       "      <td>Gunnar Nielsen Aaby</td>\n",
       "      <td>M</td>\n",
       "      <td>24.0</td>\n",
       "      <td>Denmark</td>\n",
       "      <td>1920 Summer</td>\n",
       "      <td>1920</td>\n",
       "      <td>Summer</td>\n",
       "      <td>Antwerpen</td>\n",
       "      <td>Football</td>\n",
       "      <td>Football Men's Football</td>\n",
       "      <td>NaN</td>\n",
       "    </tr>\n",
       "    <tr>\n",
       "      <th>3</th>\n",
       "      <td>4</td>\n",
       "      <td>Edgar Lindenau Aabye</td>\n",
       "      <td>M</td>\n",
       "      <td>34.0</td>\n",
       "      <td>Denmark/Sweden</td>\n",
       "      <td>1900 Summer</td>\n",
       "      <td>1900</td>\n",
       "      <td>Summer</td>\n",
       "      <td>Paris</td>\n",
       "      <td>Tug-Of-War</td>\n",
       "      <td>Tug-Of-War Men's Tug-Of-War</td>\n",
       "      <td>Gold</td>\n",
       "    </tr>\n",
       "    <tr>\n",
       "      <th>4</th>\n",
       "      <td>5</td>\n",
       "      <td>Christine Jacoba Aaftink</td>\n",
       "      <td>F</td>\n",
       "      <td>21.0</td>\n",
       "      <td>Netherlands</td>\n",
       "      <td>1988 Winter</td>\n",
       "      <td>1988</td>\n",
       "      <td>Winter</td>\n",
       "      <td>Calgary</td>\n",
       "      <td>Speed Skating</td>\n",
       "      <td>Speed Skating Women's 500 metres</td>\n",
       "      <td>NaN</td>\n",
       "    </tr>\n",
       "  </tbody>\n",
       "</table>\n",
       "</div>"
      ],
      "text/plain": [
       "   ID                      Name Sex   Age            Team        Games  Year  \\\n",
       "0   1                 A Dijiang   M  24.0           China  1992 Summer  1992   \n",
       "1   2                  A Lamusi   M  23.0           China  2012 Summer  2012   \n",
       "2   3       Gunnar Nielsen Aaby   M  24.0         Denmark  1920 Summer  1920   \n",
       "3   4      Edgar Lindenau Aabye   M  34.0  Denmark/Sweden  1900 Summer  1900   \n",
       "4   5  Christine Jacoba Aaftink   F  21.0     Netherlands  1988 Winter  1988   \n",
       "\n",
       "   Season       City          Sport                             Event Medal  \n",
       "0  Summer  Barcelona     Basketball       Basketball Men's Basketball   NaN  \n",
       "1  Summer     London           Judo      Judo Men's Extra-Lightweight   NaN  \n",
       "2  Summer  Antwerpen       Football           Football Men's Football   NaN  \n",
       "3  Summer      Paris     Tug-Of-War       Tug-Of-War Men's Tug-Of-War  Gold  \n",
       "4  Winter    Calgary  Speed Skating  Speed Skating Women's 500 metres   NaN  "
      ]
     },
     "execution_count": 15,
     "metadata": {},
     "output_type": "execute_result"
    }
   ],
   "source": [
    "# removing non useful columns\n",
    "df_olympic_clean = df_olympic_clean.drop(columns = [\"Height\",\"Weight\",\"NOC\"], axis=1)\n",
    "df_olympic_clean.head()\n"
   ]
  },
  {
   "cell_type": "code",
   "execution_count": 16,
   "metadata": {},
   "outputs": [
    {
     "data": {
      "text/plain": [
       "Text(0.5, 1.0, 'Age Distribution')"
      ]
     },
     "execution_count": 16,
     "metadata": {},
     "output_type": "execute_result"
    },
    {
     "data": {
      "image/png": "[encoded data removed]",
      "text/plain": [
       "<Figure size 640x480 with 1 Axes>"
      ]
     },
     "metadata": {},
     "output_type": "display_data"
    }
   ],
   "source": [
    "age  = sns.histplot(data=df_olympic_clean, x='Age', bins=50)\n",
    "age.set_title('Age Distribution')"
   ]
  },
  {
   "cell_type": "code",
   "execution_count": 17,
   "metadata": {},
   "outputs": [],
   "source": [
    "mean_age = df_olympic_clean['Age'][df_olympic_clean['Age'] != 0].mean()\n",
    "df_olympic_clean['Age'] = df_olympic_clean['Age'].replace(0, mean_age)\n"
   ]
  },
  {
   "cell_type": "code",
   "execution_count": 18,
   "metadata": {},
   "outputs": [
    {
     "name": "stdout",
     "output_type": "stream",
     "text": [
      "<class 'pandas.core.series.Series'>\n",
      "Index: 269731 entries, 0 to 271115\n",
      "Series name: Age\n",
      "Non-Null Count   Dtype  \n",
      "--------------   -----  \n",
      "260416 non-null  float64\n",
      "dtypes: float64(1)\n",
      "memory usage: 4.1 MB\n"
     ]
    }
   ],
   "source": [
    "df_olympic_clean['Age'].isnull().sum()\n",
    "df_olympic_clean['Age'].info()"
   ]
  },
  {
   "cell_type": "code",
   "execution_count": 20,
   "metadata": {},
   "outputs": [],
   "source": [
    "df_olympic_clean['Medal'] = df_olympic_clean['Medal'].fillna('No Medal')\n"
   ]
  },
  {
   "cell_type": "markdown",
   "metadata": {
    "id": "FmFhN52Yyn3l"
   },
   "source": [
    "### Question:\n",
    "1. Athlete with most gold medals in history?"
   ]
  },
  {
   "cell_type": "code",
   "execution_count": 23,
   "metadata": {},
   "outputs": [
    {
     "data": {
      "text/plain": [
       "Name\n",
       "Michael Fred Phelps, II               23\n",
       "Raymond Clarence \"Ray\" Ewry           10\n",
       "Mark Andrew Spitz                      9\n",
       "Larysa Semenivna Latynina (Diriy-)     9\n",
       "Paavo Johannes Nurmi                   9\n",
       "Name: count, dtype: int64"
      ]
     },
     "execution_count": 23,
     "metadata": {},
     "output_type": "execute_result"
    }
   ],
   "source": [
    "gold_medals = df_olympic_clean[df_olympic_clean['Medal'] == 'Gold']\n",
    "gold_medals_counts = gold_medals['Name'].value_counts()\n",
    "gold_medals_counts.head(5)\n",
    "\n"
   ]
  },
  {
   "cell_type": "code",
   "execution_count": 24,
   "metadata": {
    "id": "9UejDWrNMW4a"
   },
   "outputs": [
    {
     "data": {
      "text/plain": [
       "<function matplotlib.pyplot.show(close=None, block=None)>"
      ]
     },
     "execution_count": 24,
     "metadata": {},
     "output_type": "execute_result"
    },
    {
     "data": {
      "image/png": "[encoded data removed]",
      "text/plain": [
       "<Figure size 640x480 with 1 Axes>"
      ]
     },
     "metadata": {},
     "output_type": "display_data"
    }
   ],
   "source": [
    "gold_medals = df_olympic_clean[df_olympic_clean['Medal'] == 'Gold']\n",
    "gold_medals_counts = gold_medals.groupby('Name')['Medal'].count().sort_values(ascending=False)\n",
    "top_medals = gold_medals_counts.head(5)\n",
    "top_medals.plot(kind='barh', edgecolor='black', rot=40)\n",
    "#plt.barh((top_medals), sorted(top_medals), color='blue', alpha=0.5)\n",
    "\n",
    "plt.xlabel('Medals Count')\n",
    "\n",
    "\n",
    "plt.show"
   ]
  },
  {
   "cell_type": "code",
   "execution_count": 21,
   "metadata": {
    "id": "oUBee-LPytkv"
   },
   "outputs": [
    {
     "ename": "KeyError",
     "evalue": "'Name'",
     "output_type": "error",
     "traceback": [
      "\u001b[0;31m---------------------------------------------------------------------------\u001b[0m",
      "\u001b[0;31mKeyError\u001b[0m                                  Traceback (most recent call last)",
      "Cell \u001b[0;32mIn[21], line 1\u001b[0m\n\u001b[0;32m----> 1\u001b[0m df_olympic_clean[\u001b[38;5;124m'\u001b[39m\u001b[38;5;124mYear\u001b[39m\u001b[38;5;124m'\u001b[39m]\u001b[38;5;241m.\u001b[39mgroupby(\u001b[38;5;124m'\u001b[39m\u001b[38;5;124mName\u001b[39m\u001b[38;5;124m'\u001b[39m)\u001b[38;5;241m.\u001b[39mvalue_count()\n",
      "File \u001b[0;32m~/anaconda3/lib/python3.11/site-packages/pandas/core/series.py:2064\u001b[0m, in \u001b[0;36mSeries.groupby\u001b[0;34m(self, by, axis, level, as_index, sort, group_keys, observed, dropna)\u001b[0m\n\u001b[1;32m   2061\u001b[0m     \u001b[38;5;28;01mraise\u001b[39;00m \u001b[38;5;167;01mTypeError\u001b[39;00m(\u001b[38;5;124m\"\u001b[39m\u001b[38;5;124mas_index=False only valid with DataFrame\u001b[39m\u001b[38;5;124m\"\u001b[39m)\n\u001b[1;32m   2062\u001b[0m axis \u001b[38;5;241m=\u001b[39m \u001b[38;5;28mself\u001b[39m\u001b[38;5;241m.\u001b[39m_get_axis_number(axis)\n\u001b[0;32m-> 2064\u001b[0m \u001b[38;5;28;01mreturn\u001b[39;00m SeriesGroupBy(\n\u001b[1;32m   2065\u001b[0m     obj\u001b[38;5;241m=\u001b[39m\u001b[38;5;28mself\u001b[39m,\n\u001b[1;32m   2066\u001b[0m     keys\u001b[38;5;241m=\u001b[39mby,\n\u001b[1;32m   2067\u001b[0m     axis\u001b[38;5;241m=\u001b[39maxis,\n\u001b[1;32m   2068\u001b[0m     level\u001b[38;5;241m=\u001b[39mlevel,\n\u001b[1;32m   2069\u001b[0m     as_index\u001b[38;5;241m=\u001b[39mas_index,\n\u001b[1;32m   2070\u001b[0m     sort\u001b[38;5;241m=\u001b[39msort,\n\u001b[1;32m   2071\u001b[0m     group_keys\u001b[38;5;241m=\u001b[39mgroup_keys,\n\u001b[1;32m   2072\u001b[0m     observed\u001b[38;5;241m=\u001b[39mobserved,\n\u001b[1;32m   2073\u001b[0m     dropna\u001b[38;5;241m=\u001b[39mdropna,\n\u001b[1;32m   2074\u001b[0m )\n",
      "File \u001b[0;32m~/anaconda3/lib/python3.11/site-packages/pandas/core/groupby/groupby.py:931\u001b[0m, in \u001b[0;36mGroupBy.__init__\u001b[0;34m(self, obj, keys, axis, level, grouper, exclusions, selection, as_index, sort, group_keys, observed, dropna)\u001b[0m\n\u001b[1;32m    928\u001b[0m \u001b[38;5;28mself\u001b[39m\u001b[38;5;241m.\u001b[39mdropna \u001b[38;5;241m=\u001b[39m dropna\n\u001b[1;32m    930\u001b[0m \u001b[38;5;28;01mif\u001b[39;00m grouper \u001b[38;5;129;01mis\u001b[39;00m \u001b[38;5;28;01mNone\u001b[39;00m:\n\u001b[0;32m--> 931\u001b[0m     grouper, exclusions, obj \u001b[38;5;241m=\u001b[39m get_grouper(\n\u001b[1;32m    932\u001b[0m         obj,\n\u001b[1;32m    933\u001b[0m         keys,\n\u001b[1;32m    934\u001b[0m         axis\u001b[38;5;241m=\u001b[39maxis,\n\u001b[1;32m    935\u001b[0m         level\u001b[38;5;241m=\u001b[39mlevel,\n\u001b[1;32m    936\u001b[0m         sort\u001b[38;5;241m=\u001b[39msort,\n\u001b[1;32m    937\u001b[0m         observed\u001b[38;5;241m=\u001b[39mobserved,\n\u001b[1;32m    938\u001b[0m         dropna\u001b[38;5;241m=\u001b[39m\u001b[38;5;28mself\u001b[39m\u001b[38;5;241m.\u001b[39mdropna,\n\u001b[1;32m    939\u001b[0m     )\n\u001b[1;32m    941\u001b[0m \u001b[38;5;28mself\u001b[39m\u001b[38;5;241m.\u001b[39mobj \u001b[38;5;241m=\u001b[39m obj\n\u001b[1;32m    942\u001b[0m \u001b[38;5;28mself\u001b[39m\u001b[38;5;241m.\u001b[39maxis \u001b[38;5;241m=\u001b[39m obj\u001b[38;5;241m.\u001b[39m_get_axis_number(axis)\n",
      "File \u001b[0;32m~/anaconda3/lib/python3.11/site-packages/pandas/core/groupby/grouper.py:985\u001b[0m, in \u001b[0;36mget_grouper\u001b[0;34m(obj, key, axis, level, sort, observed, validate, dropna)\u001b[0m\n\u001b[1;32m    983\u001b[0m         in_axis, level, gpr \u001b[38;5;241m=\u001b[39m \u001b[38;5;28;01mFalse\u001b[39;00m, gpr, \u001b[38;5;28;01mNone\u001b[39;00m\n\u001b[1;32m    984\u001b[0m     \u001b[38;5;28;01melse\u001b[39;00m:\n\u001b[0;32m--> 985\u001b[0m         \u001b[38;5;28;01mraise\u001b[39;00m \u001b[38;5;167;01mKeyError\u001b[39;00m(gpr)\n\u001b[1;32m    986\u001b[0m \u001b[38;5;28;01melif\u001b[39;00m \u001b[38;5;28misinstance\u001b[39m(gpr, Grouper) \u001b[38;5;129;01mand\u001b[39;00m gpr\u001b[38;5;241m.\u001b[39mkey \u001b[38;5;129;01mis\u001b[39;00m \u001b[38;5;129;01mnot\u001b[39;00m \u001b[38;5;28;01mNone\u001b[39;00m:\n\u001b[1;32m    987\u001b[0m     \u001b[38;5;66;03m# Add key to exclusions\u001b[39;00m\n\u001b[1;32m    988\u001b[0m     exclusions\u001b[38;5;241m.\u001b[39madd(gpr\u001b[38;5;241m.\u001b[39mkey)\n",
      "\u001b[0;31mKeyError\u001b[0m: 'Name'"
     ]
    }
   ],
   "source": []
  },
  {
   "cell_type": "markdown",
   "metadata": {},
   "source": [
    "Justification: *FILL IN*"
   ]
  },
  {
   "cell_type": "markdown",
   "metadata": {
    "id": "n_DAUbJrymBL"
   },
   "source": [
    "### **Quality Issue 2: FILL IN**"
   ]
  },
  {
   "cell_type": "code",
   "execution_count": null,
   "metadata": {
    "id": "5Yfb-Yu5MTuE"
   },
   "outputs": [],
   "source": [
    "#FILL IN - Apply the cleaning strategy"
   ]
  },
  {
   "cell_type": "code",
   "execution_count": null,
   "metadata": {
    "id": "ionB2sRaMUmY"
   },
   "outputs": [],
   "source": [
    "#FILL IN - Validate the cleaning was successful"
   ]
  },
  {
   "cell_type": "markdown",
   "metadata": {},
   "source": [
    "Justification: *FILL IN*"
   ]
  },
  {
   "cell_type": "markdown",
   "metadata": {
    "id": "bIUrrfSNyOPR"
   },
   "source": [
    "### **Tidiness Issue 1: FILL IN**"
   ]
  },
  {
   "cell_type": "code",
   "execution_count": null,
   "metadata": {
    "id": "fib0zAm333bn"
   },
   "outputs": [],
   "source": [
    "#FILL IN - Apply the cleaning strategy"
   ]
  },
  {
   "cell_type": "code",
   "execution_count": null,
   "metadata": {
    "id": "yhrnUGY_Nk8B"
   },
   "outputs": [],
   "source": [
    "#FILL IN - Validate the cleaning was successful"
   ]
  },
  {
   "cell_type": "markdown",
   "metadata": {},
   "source": [
    "Justification: *FILL IN*"
   ]
  },
  {
   "cell_type": "markdown",
   "metadata": {
    "id": "o51Bt8kwyTzk"
   },
   "source": [
    "### **Tidiness Issue 2: FILL IN**"
   ]
  },
  {
   "cell_type": "code",
   "execution_count": null,
   "metadata": {
    "id": "7zW8O5yx4Y9O"
   },
   "outputs": [],
   "source": [
    "#FILL IN - Apply the cleaning strategy"
   ]
  },
  {
   "cell_type": "code",
   "execution_count": null,
   "metadata": {
    "id": "q6I_Sr7lxXi5"
   },
   "outputs": [],
   "source": [
    "#FILL IN - Validate the cleaning was successful"
   ]
  },
  {
   "cell_type": "markdown",
   "metadata": {},
   "source": [
    "Justification: *FILL IN*"
   ]
  },
  {
   "cell_type": "markdown",
   "metadata": {},
   "source": [
    "### **Remove unnecessary variables and combine datasets**\n",
    "\n",
    "Depending on the datasets, you can also peform the combination before the cleaning steps."
   ]
  },
  {
   "cell_type": "code",
   "execution_count": null,
   "metadata": {},
   "outputs": [],
   "source": [
    "#FILL IN - Remove unnecessary variables and combine datasets"
   ]
  },
  {
   "cell_type": "markdown",
   "metadata": {
    "id": "F42urHuzttjF"
   },
   "source": [
    "## 4. Update your data store\n",
    "Update your local database/data store with the cleaned data, following best practices for storing your cleaned data:\n",
    "\n",
    "- Must maintain different instances / versions of data (raw and cleaned data)\n",
    "- Must name the dataset files informatively\n",
    "- Ensure both the raw and cleaned data is saved to your database/data store"
   ]
  },
  {
   "cell_type": "code",
   "execution_count": null,
   "metadata": {
    "id": "V3uay7EJUV_L"
   },
   "outputs": [],
   "source": [
    "#FILL IN - saving data"
   ]
  },
  {
   "cell_type": "markdown",
   "metadata": {
    "id": "cGy_yddGtzhM"
   },
   "source": [
    "## 5. Answer the research question\n",
    "\n",
    "### **5.1:** Define and answer the research question \n",
    "Going back to the problem statement in step 1, use the cleaned data to answer the question you raised. Produce **at least** two visualizations using the cleaned data and explain how they help you answer the question."
   ]
  },
  {
   "cell_type": "markdown",
   "metadata": {
    "id": "gjedE4s4ZkEd"
   },
   "source": [
    "*Research question:* FILL IN from answer to Step 1"
   ]
  },
  {
   "cell_type": "code",
   "execution_count": null,
   "metadata": {
    "id": "Lkw3rW9kZmOm"
   },
   "outputs": [],
   "source": [
    "#Visual 1 - FILL IN"
   ]
  },
  {
   "cell_type": "markdown",
   "metadata": {},
   "source": [
    "*Answer to research question:* FILL IN"
   ]
  },
  {
   "cell_type": "code",
   "execution_count": null,
   "metadata": {
    "id": "6fdK_8ZGZm9R"
   },
   "outputs": [],
   "source": [
    "#Visual 2 - FILL IN"
   ]
  },
  {
   "cell_type": "markdown",
   "metadata": {
    "id": "K5RgvMGUZoHn"
   },
   "source": [
    "*Answer to research question:* FILL IN"
   ]
  },
  {
   "cell_type": "markdown",
   "metadata": {
    "id": "0ezWXXZVj-TP"
   },
   "source": [
    "### **5.2:** Reflection\n",
    "In 2-4 sentences, if you had more time to complete the project, what actions would you take? For example, which data quality and structural issues would you look into further, and what research questions would you further explore?"
   ]
  },
  {
   "cell_type": "markdown",
   "metadata": {
    "id": "XB3RBDG5kFe1"
   },
   "source": [
    "*Answer:* FILL IN"
   ]
  }
 ],
 "metadata": {
  "colab": {
   "provenance": []
  },
  "kernelspec": {
   "display_name": "Python 3 (ipykernel)",
   "language": "python",
   "name": "python3"
  },
  "language_info": {
   "codemirror_mode": {
    "name": "ipython",
    "version": 3
   },
   "file_extension": ".py",
   "mimetype": "text/x-python",
   "name": "python",
   "nbconvert_exporter": "python",
   "pygments_lexer": "ipython3",
   "version": "3.11.5"
  }
 },
 "nbformat": 4,
 "nbformat_minor": 1
}
